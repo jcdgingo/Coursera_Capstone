{
 "cells": [
  {
   "cell_type": "markdown",
   "metadata": {},
   "source": [
    "# Analysis of Venues in the Neighborhoods(Barangays) of Makati and Taguig\n",
    "## Capstone Project in Applied Data Science by IBM/Coursera\n",
    "### *Jessiedee Mark Gingo*"
   ]
  },
  {
   "cell_type": "markdown",
   "metadata": {},
   "source": [
    "Table of Contents"
   ]
  },
  {
   "cell_type": "markdown",
   "metadata": {},
   "source": [
    "## Introduction/Business Problem"
   ]
  },
  {
   "cell_type": "markdown",
   "metadata": {},
   "source": [
    "Makati and Taguig are the highly urbanized cities in the Philippines. This area is the one of the most culturally diverse in the Philippines. Various places for dining and entertainment are all over the place. In this capstone project, the neighborhoods of these cities will be considered and will be clustered into groups. Using a Machine Learning algorithm, we will be able to identify the clusters of the neighborhood with respect to its venues categories. The clusters that will be identified can give an valuable insights to investors, business people, and the government regarding on how they position themselves for continuous growth and development in this region."
   ]
  },
  {
   "cell_type": "markdown",
   "metadata": {},
   "source": []
  }
 ],
 "metadata": {
  "kernelspec": {
   "display_name": "Python",
   "language": "python",
   "name": "conda-env-python-py"
  },
  "language_info": {
   "codemirror_mode": {
    "name": "ipython",
    "version": 3
   },
   "file_extension": ".py",
   "mimetype": "text/x-python",
   "name": "python",
   "nbconvert_exporter": "python",
   "pygments_lexer": "ipython3",
   "version": "3.6.7"
  }
 },
 "nbformat": 4,
 "nbformat_minor": 4
}
