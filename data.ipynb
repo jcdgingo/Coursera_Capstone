{
 "cells": [
  {
   "cell_type": "markdown",
   "metadata": {},
   "source": [
    "# Analysis of Venues in the Neighborhoods(Barangays) of Makati and Taguig\n",
    "## Capstone Project in Applied Data Science by IBM/Coursera\n",
    "### *Jessiedee Mark Gingo*"
   ]
  },
  {
   "cell_type": "markdown",
   "metadata": {},
   "source": [
    "Table of Contents"
   ]
  },
  {
   "cell_type": "markdown",
   "metadata": {},
   "source": [
    "## Data Description"
   ]
  },
  {
   "cell_type": "markdown",
   "metadata": {},
   "source": [
    "In this analysis, we will scrape the data of the neighborhoods(barangays) in these cities from Wikipedia:\n",
    "\n",
    "Makati: https://en.wikipedia.org/wiki/Makati#Barangays | \n",
    "Taguig: https://en.wikipedia.org/wiki/Taguig#Barangays\n",
    "    \n",
    "For the location coordinates, we will be using the geopy python package. The venues and its categories will be available using FourSquare API. By using FourSquare API, based on the location of the neighborhood, we will be extracting data of the venues location within 750 meter radius. The category of these venues will be made available using the same API. The category will be converted to numerical values by using one hot encoding. The top venues category in each neighborhood will be presented. The data will be segmented using K-Means clustering along with the determination of the best K. Finally, the conclusion to the result of every cluster will be presented and we will then be able to identify what are neighborhood's top venues, so we can identify what specific venue categories that are highly competitive. "
   ]
  },
  {
   "cell_type": "markdown",
   "metadata": {},
   "source": []
  }
 ],
 "metadata": {
  "kernelspec": {
   "display_name": "Python",
   "language": "python",
   "name": "conda-env-python-py"
  },
  "language_info": {
   "codemirror_mode": {
    "name": "ipython",
    "version": 3
   },
   "file_extension": ".py",
   "mimetype": "text/x-python",
   "name": "python",
   "nbconvert_exporter": "python",
   "pygments_lexer": "ipython3",
   "version": "3.6.7"
  }
 },
 "nbformat": 4,
 "nbformat_minor": 4
}
